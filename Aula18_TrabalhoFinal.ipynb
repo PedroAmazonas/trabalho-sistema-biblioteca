{
 "cells": [
  {
   "cell_type": "markdown",
   "id": "4f01337e",
   "metadata": {},
   "source": [
    "## Gerando Cadastros com a Biblioteca Faker\n"
   ]
  },
  {
   "cell_type": "markdown",
   "id": "c7723906",
   "metadata": {},
   "source": [
    "- Utilizar a biblioteca Faker para gerar dados simulados.\n",
    "\n",
    "- Reforçar conceitos de classes, objetos e listas."
   ]
  },
  {
   "cell_type": "markdown",
   "id": "dee4f450",
   "metadata": {},
   "source": [
    "### 📚 O que é a biblioteca Faker\n",
    "\n",
    "A Faker é uma biblioteca Python que gera dados fictícios. Você pode usá-la para criar nomes, endereços, datas, emails, e muitos outros tipos de dados, personalizando-os de acordo com a sua necessidade."
   ]
  },
  {
   "cell_type": "markdown",
   "id": "b786cf5a",
   "metadata": {},
   "source": [
    "```python\n",
    "    pip install faker\n",
    "```"
   ]
  },
  {
   "cell_type": "markdown",
   "id": "d3693bf0",
   "metadata": {},
   "source": [
    "Exemplo de script com faker"
   ]
  },
  {
   "cell_type": "code",
   "execution_count": null,
   "id": "1596e4ca",
   "metadata": {},
   "outputs": [],
   "source": [
    "from faker import Faker\n",
    "\n",
    "# Instanciar gerador com localização pt-BR\n",
    "fake = Faker('pt_BR')\n",
    "\n",
    "# Lista para armazenar os cadastros\n",
    "cadastros = []\n",
    "\n",
    "# Gerar 5 cadastros fictícios\n",
    "for _ in range(2):\n",
    "    pessoa = {\n",
    "        \"nome\": fake.name(),\n",
    "        \"cpf\": fake.cpf(),\n",
    "        \"email\": fake.email(),\n",
    "        \"telefone\": fake.phone_number(),\n",
    "        \"endereco\": fake.address()\n",
    "    }\n",
    "    cadastros.append(pessoa)\n",
    "\n",
    "# Exibir os cadastros gerados\n",
    "for i, cadastro in enumerate(cadastros, 1):\n",
    "    print(f\"\\nCadastro {i}:\")\n",
    "    for chave, valor in cadastro.items():\n",
    "        print(f\"{chave.capitalize()}: {valor}\")\n",
    "\n"
   ]
  },
  {
   "cell_type": "markdown",
   "id": "9d1d57dd",
   "metadata": {},
   "source": [
    "## Exercício 1 – Cadastro de Clientes\n",
    "**Objetivo:** Gerar uma lista com 10 clientes contendo nome, CPF, e-mail e telefone."
   ]
  },
  {
   "cell_type": "code",
   "execution_count": null,
   "id": "c4399fe2",
   "metadata": {},
   "outputs": [],
   "source": []
  },
  {
   "cell_type": "markdown",
   "id": "13602d26",
   "metadata": {},
   "source": [
    "## Exercício 2 – Geração de Endereços para Entregas\n",
    "**Objetivo:** Criar uma simulação de 5 pedidos com dados de entrega."
   ]
  },
  {
   "cell_type": "markdown",
   "id": "f50a7840",
   "metadata": {},
   "source": []
  },
  {
   "cell_type": "markdown",
   "id": "27899a9f",
   "metadata": {},
   "source": [
    "# Roteiro do Projeto de Sistema de Gestão para Biblioteca&#x20;\n",
    "\n",
    "## 1. Objetivo do Projeto\n",
    "\n",
    "Desenvolver um sistema orientado a objetos em Python que permita o gerenciamento básico de uma biblioteca comunitária, incluindo cadastro de livros e usuários, controle de empréstimos, persistência dos dados e tratamento de exceções.\n",
    "\n",
    "---\n",
    "\n",
    "## 2. Requisitos Funcionais\n",
    "\n",
    "O sistema deve permitir:\n",
    "\n",
    "* **Cadastro de livros**: título, autor, ano de publicação, código identificador e status de disponibilidade.\n",
    "* **Cadastro de usuários (leitores e funcionários)**: nome, CPF e outras informações pertinentes.\n",
    "* **Controle de empréstimos**: associação entre livros e leitores, com registro da data de empréstimo, prazo para devolução e controle do status (devolvido ou não).\n",
    "* **Persistência de dados**: os registros de livros, usuários e empréstimos devem ser armazenados em arquivos JSON para garantir a continuidade entre sessões.\n",
    "* **Tratamento de exceções**: o sistema deve validar operações e lançar erros personalizados em casos como tentativa de empréstimo de livro indisponível ou usuário inexistente.\n",
    "\n",
    "---\n",
    "\n",
    "## 3. Estrutura do Sistema\n",
    "\n",
    "O sistema será dividido em módulos Python organizados conforme segue:\n",
    "\n",
    "* **modelos/pessoa.py**: classes abstratas e concretas para representar pessoas (leitores e funcionários).\n",
    "* **modelos/livro.py**: classe Livro para gerenciar atributos e estado do livro.\n",
    "* **modelos/emprestimo.py**: classe Emprestimo para registrar operações de empréstimo e devolução.\n",
    "* **modelos/biblioteca.py**: classe Biblioteca que gerencia coleções, operações principais e persistência.\n",
    "* **modelos/excecoes.py**: classes de exceções personalizadas para tratamento de erros.\n",
    "* **main.py**: script principal com interface CLI para interação com o usuário.\n",
    "* **gui.py** *(opcional)*: interface gráfica básica usando Tkinter para interação visual.\n",
    "\n",
    "---\n",
    "\n",
    "## 4. Requisitos Técnicos\n",
    "\n",
    "* Linguagem: Python 3.x\n",
    "* Uso obrigatório de conceitos de Programação Orientada a Objetos: encapsulamento, herança, polimorfismo, abstração.\n",
    "* Implementação de persistência usando o módulo `json`.\n",
    "* Criação e utilização de exceções personalizadas.\n",
    "* Organização modular do código.\n",
    "\n",
    "---\n",
    "\n",
    "## 5. Entrega - Dia 18/07/2025\n",
    "\n",
    "* Submissão do projeto completo em repositório GitHub ou arquivo compactado via Teams\n",
    "* Código documentado e comentado.\n",
    "* Relatório breve (máximo 2 páginas) explicando a arquitetura do sistema e desafios enfrentados.\n",
    "\n",
    "---\n"
   ]
  },
  {
   "cell_type": "markdown",
   "id": "3148d52e",
   "metadata": {},
   "source": []
  }
 ],
 "metadata": {
  "kernelspec": {
   "display_name": "Python 3",
   "language": "python",
   "name": "python3"
  },
  "language_info": {
   "codemirror_mode": {
    "name": "ipython",
    "version": 3
   },
   "file_extension": ".py",
   "mimetype": "text/x-python",
   "name": "python",
   "nbconvert_exporter": "python",
   "pygments_lexer": "ipython3",
   "version": "3.13.5"
  }
 },
 "nbformat": 4,
 "nbformat_minor": 5
}
